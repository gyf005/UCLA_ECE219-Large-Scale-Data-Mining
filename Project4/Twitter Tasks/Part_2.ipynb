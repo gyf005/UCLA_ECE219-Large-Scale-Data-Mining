{
  "nbformat": 4,
  "nbformat_minor": 0,
  "metadata": {
    "colab": {
      "provenance": [],
      "machine_shape": "hm"
    },
    "kernelspec": {
      "name": "python3",
      "display_name": "Python 3"
    },
    "language_info": {
      "name": "python"
    },
    "gpuClass": "premium"
  },
  "cells": [
    {
      "cell_type": "code",
      "source": [
        "from google.colab import drive\n",
        "\n",
        "drive.mount(\"/content/drive/\", force_remount=True)"
      ],
      "metadata": {
        "colab": {
          "base_uri": "https://localhost:8080/"
        },
        "id": "4kPCX4sM9yCx",
        "outputId": "b63235b7-04cb-4e29-acea-55d5e255ca61"
      },
      "execution_count": 112,
      "outputs": [
        {
          "output_type": "stream",
          "name": "stdout",
          "text": [
            "Mounted at /content/drive/\n"
          ]
        }
      ]
    },
    {
      "cell_type": "code",
      "execution_count": 113,
      "metadata": {
        "id": "llXnoFa_zmke"
      },
      "outputs": [],
      "source": [
        "import warnings\n",
        "warnings.simplefilter(action='ignore', category=FutureWarning)\n",
        "\n",
        "import numpy as np\n",
        "import pandas as pd\n",
        "import nltk\n",
        "from nltk.stem import WordNetLemmatizer, PorterStemmer\n",
        "from nltk.corpus import wordnet, stopwords\n",
        "from nltk import word_tokenize, pos_tag\n",
        "import re\n",
        "import matplotlib.pyplot as plt\n",
        "import json\n",
        "import datetime, time\n",
        "import pytz\n",
        "from sklearn.feature_extraction.text import CountVectorizer, TfidfTransformer"
      ]
    },
    {
      "cell_type": "code",
      "source": [
        "nltk.download('averaged_perceptron_tagger')\n",
        "nltk.download('wordnet')\n",
        "nltk.download('punkt')\n",
        "nltk.download('stopwords')\n",
        "nltk.download('omw-1.4')\n",
        "\n",
        "PATS = 0\n",
        "HAWKS = 1"
      ],
      "metadata": {
        "colab": {
          "base_uri": "https://localhost:8080/"
        },
        "id": "jSI2iexA4qap",
        "outputId": "64118d25-9e18-48d0-d5a5-87c92b1c95a0"
      },
      "execution_count": 114,
      "outputs": [
        {
          "output_type": "stream",
          "name": "stderr",
          "text": [
            "[nltk_data] Downloading package averaged_perceptron_tagger to\n",
            "[nltk_data]     /root/nltk_data...\n",
            "[nltk_data]   Package averaged_perceptron_tagger is already up-to-\n",
            "[nltk_data]       date!\n",
            "[nltk_data] Downloading package wordnet to /root/nltk_data...\n",
            "[nltk_data]   Package wordnet is already up-to-date!\n",
            "[nltk_data] Downloading package punkt to /root/nltk_data...\n",
            "[nltk_data]   Package punkt is already up-to-date!\n",
            "[nltk_data] Downloading package stopwords to /root/nltk_data...\n",
            "[nltk_data]   Package stopwords is already up-to-date!\n",
            "[nltk_data] Downloading package omw-1.4 to /root/nltk_data...\n",
            "[nltk_data]   Package omw-1.4 is already up-to-date!\n"
          ]
        }
      ]
    },
    {
      "cell_type": "markdown",
      "source": [
        "## Clean, lemmatize data and extract relevant features as Dataframe"
      ],
      "metadata": {
        "id": "HEiY7dg2QFZl"
      }
    },
    {
      "cell_type": "code",
      "source": [
        "import string\n",
        "\n",
        "def clean(text):\n",
        "    # Remove URLs\n",
        "    cleaned_text = re.sub(r\"http\\S+\", \"\", text)\n",
        "    # Remove hashtags\n",
        "    cleaned_text = re.sub(r\"#\\S+\", \"\", cleaned_text)\n",
        "    # Remove mentions\n",
        "    cleaned_text = re.sub(r\"@\\S+\", \"\", cleaned_text)\n",
        "    # Remove emoticons\n",
        "    cleaned_text = re.sub(r\":[^:\\s]*(?:::[^:\\s]*)*:\", \"\", cleaned_text)\n",
        "    # Remove numbers\n",
        "    cleaned_text = re.sub(r\"\\b\\d+\\b\", \"\", cleaned_text)\n",
        "    # Remove punctuation and convert to lowercase\n",
        "    cleaned_text = re.sub(r\"[^\\w\\s]\", \"\", cleaned_text).lower()\n",
        "    # Remove stopwords\n",
        "    stop_words = set(stopwords.words('english'))\n",
        "    cleaned_text = \" \".join(word for word in cleaned_text.split() if word not in stop_words)\n",
        "    return cleaned_text\n",
        "\n",
        "def get_pos(tag):  # get the property of a word from the pos_tag results\n",
        "    if tag.startswith('N'):\n",
        "        return wordnet.NOUN\n",
        "    elif tag.startswith('V'):\n",
        "        return wordnet.VERB\n",
        "    elif tag.startswith('J'):\n",
        "        return wordnet.ADJ\n",
        "    elif tag.startswith('R'):\n",
        "        return wordnet.ADV\n",
        "    else:\n",
        "        return wordnet.NOUN\n",
        "\n",
        "def lemmatization(text):\n",
        "    wnl = WordNetLemmatizer()\n",
        "    words = word_tokenize(text)  # divide the words of each data point\n",
        "    tags = pos_tag(words)  # return the property of each word\n",
        "    lemma = []\n",
        "    for tag in tags:\n",
        "        pos = get_pos(tag[1])\n",
        "        lemma.append(wnl.lemmatize(tag[0], pos).lower())  # do the lemmatization\n",
        "    return ' '.join(lemma)\n",
        "\n",
        "def clean_and_lemmatize(tweet):\n",
        "  tweet = clean(tweet)\n",
        "  tweet = lemmatization(tweet)\n",
        "  return tweet"
      ],
      "metadata": {
        "id": "zseYCBdp6_Ei"
      },
      "execution_count": 115,
      "outputs": []
    },
    {
      "cell_type": "code",
      "source": [
        "def extract_tweet_data_part_2(pats_filename, hawks_filename):\n",
        "  num_non_tweet =  0\n",
        "  num_non_english = 0\n",
        "  num_non_text = 0\n",
        "  num_non_timestamp = 0\n",
        "  num_non_follows = 0\n",
        "  num_non_likes = 0\n",
        "\n",
        "  # features required: tweet text, user follower count, timestamp, team (fanbase)\n",
        "  # target: number of likes\n",
        "  df = pd.DataFrame(columns = ['Text', 'Follows', 'Timestamp', 'Team', 'Likes'])\n",
        "\n",
        "  with open(pats_filename, encoding = \"UTF-8\") as file:\n",
        "    while True:\n",
        "      tweet = file.readline()\n",
        "        \n",
        "      # reached end of file\n",
        "      if not tweet:\n",
        "        num_non_tweet += 1\n",
        "        break\n",
        "        \n",
        "      tweet_json = json.loads(tweet)\n",
        "\n",
        "      if (tweet_json['tweet']['lang'] != 'en'):\n",
        "        num_non_english += 1\n",
        "        continue\n",
        "\n",
        "      tweet_text = clean_and_lemmatize(tweet_json['tweet']['text'])\n",
        "      tweet_timestamp = tweet_json['citation_date']        \n",
        "      user_follow_count = tweet_json['author']['followers']\n",
        "      num_likes = tweet_json['tweet']['favorite_count']\n",
        "\n",
        "      if not tweet_text:\n",
        "        num_non_text += 1\n",
        "        continue;\n",
        "      if not tweet_timestamp:\n",
        "        num_non_timestamp += 1\n",
        "        continue;\n",
        "      if user_follow_count is None:\n",
        "        num_non_follows += 1\n",
        "        continue;\n",
        "      if num_likes is None:\n",
        "        num_non_likes += 1\n",
        "        continue;\n",
        "\n",
        "      df = df.append({'Text': tweet_text, 'Follows': user_follow_count, 'Timestamp': tweet_timestamp, 'Team': PATS, 'Likes': num_likes}, ignore_index = True)\n",
        "  \n",
        "  with open(hawks_filename, encoding = \"UTF-8\") as file:\n",
        "    while True:\n",
        "      tweet = file.readline()\n",
        "        \n",
        "      # reached end of file\n",
        "      if not tweet:\n",
        "        num_non_tweet += 1\n",
        "        break\n",
        "        \n",
        "      tweet_json = json.loads(tweet)\n",
        "\n",
        "      if (tweet_json['tweet']['lang'] != 'en'):\n",
        "        num_non_english += 1\n",
        "        continue\n",
        "\n",
        "      tweet_text = clean_and_lemmatize(tweet_json['tweet']['text'])\n",
        "      tweet_timestamp = tweet_json['citation_date']        \n",
        "      user_follow_count = tweet_json['author']['followers']\n",
        "      num_likes = tweet_json['tweet']['favorite_count']\n",
        "\n",
        "      if not tweet_text:\n",
        "        num_non_text += 1\n",
        "        continue;\n",
        "      if not tweet_timestamp:\n",
        "        num_non_timestamp += 1\n",
        "        continue;\n",
        "      if user_follow_count is None:\n",
        "        num_non_follows += 1\n",
        "        continue;\n",
        "      if num_likes is None:\n",
        "        num_non_likes += 1\n",
        "        continue;\n",
        "\n",
        "      df = df.append({'Text': tweet_text, 'Follows': user_follow_count, 'Timestamp': tweet_timestamp, 'Team': HAWKS, 'Likes': num_likes}, ignore_index = True)\n",
        "\n",
        "  print(num_non_tweet)\n",
        "  print(num_non_english)\n",
        "  print(num_non_text)\n",
        "  print(num_non_timestamp)\n",
        "  print(num_non_follows)\n",
        "  print(num_non_likes)\n",
        "  return df"
      ],
      "metadata": {
        "id": "M4HsMLG21D43"
      },
      "execution_count": 116,
      "outputs": []
    },
    {
      "cell_type": "code",
      "source": [
        "df = extract_tweet_data_part_2('drive/MyDrive/Twitter/tweets_#gopatriots.txt', 'drive/MyDrive/Twitter/tweets_#gohawks.txt')"
      ],
      "metadata": {
        "id": "JhZYTOaE9TI5",
        "colab": {
          "base_uri": "https://localhost:8080/"
        },
        "outputId": "8f44768f-838b-46d4-a660-e6c334bf9e97"
      },
      "execution_count": 117,
      "outputs": [
        {
          "output_type": "stream",
          "name": "stdout",
          "text": [
            "2\n",
            "37382\n",
            "1066\n",
            "0\n",
            "0\n",
            "0\n"
          ]
        }
      ]
    },
    {
      "cell_type": "code",
      "source": [
        "print(df)"
      ],
      "metadata": {
        "colab": {
          "base_uri": "https://localhost:8080/"
        },
        "id": "IebX28er3uoq",
        "outputId": "896e5b31-75d4-44f1-d863-995fd7c0d2c7"
      },
      "execution_count": 118,
      "outputs": [
        {
          "output_type": "stream",
          "name": "stdout",
          "text": [
            "                                                     Text  Follows  \\\n",
            "0       legarrette blount ray lewis dance hope see lea...   2895.0   \n",
            "1                    father husband yell tv hard get game  20896.0   \n",
            "2           girl soccer team rank team state full ranking    500.0   \n",
            "3                               patriot champion rt agree    491.0   \n",
            "4       girl varsity soccer team dominate first playof...    500.0   \n",
            "...                                                   ...      ...   \n",
            "154180                      long think go back super bowl    120.0   \n",
            "154181                                       day everyday     47.0   \n",
            "154182      interview seattle seahawks superbowl champion   1496.0   \n",
            "154183                      love russell wilson want know    120.0   \n",
            "154184  ultimate broken hearted hangover week hell alm...    358.0   \n",
            "\n",
            "         Timestamp Team Likes  \n",
            "0       1421257541    0     0  \n",
            "1       1421341875    0     0  \n",
            "2       1421285189    0     1  \n",
            "3       1421427332    0     0  \n",
            "4       1421285179    0     2  \n",
            "...            ...  ...   ...  \n",
            "154180  1423290285    1     0  \n",
            "154181  1423291665    1     0  \n",
            "154182  1423295642    1     0  \n",
            "154183  1423295796    1     0  \n",
            "154184  1423304269    1     0  \n",
            "\n",
            "[154185 rows x 5 columns]\n"
          ]
        }
      ]
    },
    {
      "cell_type": "code",
      "source": [
        "# save for future use, to not rerun extraction again\n",
        "from google.colab import files\n",
        "\n",
        "df.to_csv('df_part_2.csv', encoding = \"UTF-8\")\n",
        "files.download('df_part_2.csv')"
      ],
      "metadata": {
        "colab": {
          "base_uri": "https://localhost:8080/",
          "height": 17
        },
        "id": "Az25989uPYzO",
        "outputId": "ce7009ba-9efb-48c1-8d8f-09f91ddac8d9"
      },
      "execution_count": 119,
      "outputs": [
        {
          "output_type": "display_data",
          "data": {
            "text/plain": [
              "<IPython.core.display.Javascript object>"
            ],
            "application/javascript": [
              "\n",
              "    async function download(id, filename, size) {\n",
              "      if (!google.colab.kernel.accessAllowed) {\n",
              "        return;\n",
              "      }\n",
              "      const div = document.createElement('div');\n",
              "      const label = document.createElement('label');\n",
              "      label.textContent = `Downloading \"${filename}\": `;\n",
              "      div.appendChild(label);\n",
              "      const progress = document.createElement('progress');\n",
              "      progress.max = size;\n",
              "      div.appendChild(progress);\n",
              "      document.body.appendChild(div);\n",
              "\n",
              "      const buffers = [];\n",
              "      let downloaded = 0;\n",
              "\n",
              "      const channel = await google.colab.kernel.comms.open(id);\n",
              "      // Send a message to notify the kernel that we're ready.\n",
              "      channel.send({})\n",
              "\n",
              "      for await (const message of channel.messages) {\n",
              "        // Send a message to notify the kernel that we're ready.\n",
              "        channel.send({})\n",
              "        if (message.buffers) {\n",
              "          for (const buffer of message.buffers) {\n",
              "            buffers.push(buffer);\n",
              "            downloaded += buffer.byteLength;\n",
              "            progress.value = downloaded;\n",
              "          }\n",
              "        }\n",
              "      }\n",
              "      const blob = new Blob(buffers, {type: 'application/binary'});\n",
              "      const a = document.createElement('a');\n",
              "      a.href = window.URL.createObjectURL(blob);\n",
              "      a.download = filename;\n",
              "      div.appendChild(a);\n",
              "      a.click();\n",
              "      div.remove();\n",
              "    }\n",
              "  "
            ]
          },
          "metadata": {}
        },
        {
          "output_type": "display_data",
          "data": {
            "text/plain": [
              "<IPython.core.display.Javascript object>"
            ],
            "application/javascript": [
              "download(\"download_dcbe14e0-5018-457d-84d6-1b93242a6356\", \"df_part_2.csv\", 8844109)"
            ]
          },
          "metadata": {}
        }
      ]
    },
    {
      "cell_type": "code",
      "source": [
        "likes = df['Likes'].unique()\n",
        "print(sorted(likes))"
      ],
      "metadata": {
        "colab": {
          "base_uri": "https://localhost:8080/"
        },
        "id": "2Ywrvy6j8pea",
        "outputId": "9b6b179b-f598-4b39-b73a-a3c849b274eb"
      },
      "execution_count": null,
      "outputs": [
        {
          "output_type": "stream",
          "name": "stdout",
          "text": [
            "[0, 1, 2, 3, 4, 5, 6, 7, 8, 9, 10, 11, 12, 13, 14, 15, 16, 17, 18, 19, 20, 21, 22, 23, 24, 25, 26, 29, 31, 32, 34, 35, 38, 40, 41, 43, 44, 46, 47, 49, 52, 55, 56, 58, 60, 61, 62, 66, 69, 77, 79, 83, 91, 109, 127, 135, 142, 151, 164, 166, 176, 284, 326, 356, 382, 392, 526, 568, 592, 758, 3667, 6087, 42738]\n"
          ]
        }
      ]
    },
    {
      "cell_type": "markdown",
      "source": [
        "## Model 1 (Using timestamp, follows, and tweet content to predict number of likes)"
      ],
      "metadata": {
        "id": "AKlfgrivwpGx"
      }
    },
    {
      "cell_type": "markdown",
      "source": [
        "### Pre-processing (normalization, TF-IDF, SVD) on Dataframe"
      ],
      "metadata": {
        "id": "uZ7b4RIFQKqF"
      }
    },
    {
      "cell_type": "code",
      "source": [
        "df = pd.read_csv('df_part_2.csv', encoding = \"UTF-8\")"
      ],
      "metadata": {
        "id": "iGsePdM4QRoz"
      },
      "execution_count": null,
      "outputs": []
    },
    {
      "cell_type": "code",
      "source": [
        "df1 = df"
      ],
      "metadata": {
        "id": "oobDnTK2DwqA"
      },
      "execution_count": 120,
      "outputs": []
    },
    {
      "cell_type": "code",
      "source": [
        "# randomize data as train_test_split will only pick last N datapoints as testing set\n",
        "df1 = df1.sample(frac=1, random_state=42).reset_index(drop=True)"
      ],
      "metadata": {
        "id": "Lotu7GN9DzcB"
      },
      "execution_count": 121,
      "outputs": []
    },
    {
      "cell_type": "code",
      "source": [
        "df1.dropna(inplace=True)"
      ],
      "metadata": {
        "id": "NqGdznNUfloQ"
      },
      "execution_count": 122,
      "outputs": []
    },
    {
      "cell_type": "code",
      "source": [
        "from sklearn.model_selection import train_test_split\n",
        "from sklearn.pipeline import Pipeline\n",
        "from sklearn.decomposition import TruncatedSVD\n",
        "\n",
        "# split into train and test data\n",
        "df_train, df_test = train_test_split(df1, test_size=0.25, random_state = 42)\n",
        "\n",
        "# convert text into TFIDF vectors, reduced to 50 components using SVD\n",
        "text_vec_pipeline = Pipeline([('convector', CountVectorizer(stop_words='english', min_df=3)), ('tfidf', TfidfTransformer()), ('dim_reduce', TruncatedSVD(50, random_state=42))])\n",
        "\n",
        "df_train['TFIDF'] = text_vec_pipeline.fit_transform(df_train['Text']).tolist()\n",
        "df_test['TFIDF'] = text_vec_pipeline.transform(df_test['Text']).tolist()"
      ],
      "metadata": {
        "id": "4OxztmKWKJ7i"
      },
      "execution_count": 123,
      "outputs": []
    },
    {
      "cell_type": "code",
      "source": [
        "print(df_train['TFIDF'])"
      ],
      "metadata": {
        "colab": {
          "base_uri": "https://localhost:8080/"
        },
        "id": "hUpxKJT6NawG",
        "outputId": "04813c41-ef35-4677-8298-6bba81f61f37"
      },
      "execution_count": 124,
      "outputs": [
        {
          "output_type": "stream",
          "name": "stdout",
          "text": [
            "83935     [0.08265782385402726, 0.038876548279218964, 0....\n",
            "36036     [0.26093617354068466, -0.2200419618583431, -0....\n",
            "65360     [0.29155978646491915, 0.301121578130627, 0.154...\n",
            "102223    [6.977940559528282e-05, -1.0988529099719303e-0...\n",
            "116326    [0.2137355016578547, -0.08028334707650589, -0....\n",
            "                                ...                        \n",
            "119879    [0.01582536454121186, -0.0023933750017854135, ...\n",
            "103694    [0.01572323082811718, 0.00038825127970549286, ...\n",
            "131932    [0.05281261532320775, 0.007862118400044617, 0....\n",
            "146867    [0.00960428629542284, 0.0035305183971040418, 0...\n",
            "121958    [0.018024621318541108, -0.00332755243026561, -...\n",
            "Name: TFIDF, Length: 115638, dtype: object\n"
          ]
        }
      ]
    },
    {
      "cell_type": "code",
      "source": [
        "from sklearn.preprocessing import MinMaxScaler\n",
        "\n",
        "scaler = MinMaxScaler()\n",
        "\n",
        "df_train[['Timestamp','Likes','Follows']] = scaler.fit_transform(df_train[['Timestamp','Likes','Follows']])\n",
        "df_test[['Timestamp','Likes','Follows']] = scaler.transform(df_test[['Timestamp','Likes','Follows']])"
      ],
      "metadata": {
        "id": "DvH8Hk7wHeeh"
      },
      "execution_count": 125,
      "outputs": []
    },
    {
      "cell_type": "markdown",
      "source": [
        "### Extracting X and Y"
      ],
      "metadata": {
        "id": "YBIukjbNN39j"
      }
    },
    {
      "cell_type": "code",
      "source": [
        "X_train = np.stack(df_train.apply(lambda row: np.concatenate([row['TFIDF'], [row['Timestamp'], row['Follows']]]), axis=1))\n",
        "y_train = df_train[['Likes']].values.ravel()\n",
        "\n",
        "X_test = np.stack(df_test.apply(lambda row: np.concatenate([row['TFIDF'], [row['Timestamp'], row['Follows']]]), axis=1))\n",
        "y_test = df_test[['Likes']].values.ravel()"
      ],
      "metadata": {
        "id": "ZL-vmH8Actjq"
      },
      "execution_count": 126,
      "outputs": []
    },
    {
      "cell_type": "code",
      "source": [
        "print(X_train.shape)\n",
        "print(y_train.shape)\n",
        "print(X_test.shape)\n",
        "print(y_test.shape)"
      ],
      "metadata": {
        "colab": {
          "base_uri": "https://localhost:8080/"
        },
        "id": "49peHMMcc4yd",
        "outputId": "7e5de1ef-da54-42ef-baea-48dfaadc6b96"
      },
      "execution_count": 127,
      "outputs": [
        {
          "output_type": "stream",
          "name": "stdout",
          "text": [
            "(115638, 52)\n",
            "(115638,)\n",
            "(38547, 52)\n",
            "(38547,)\n"
          ]
        }
      ]
    },
    {
      "cell_type": "code",
      "source": [
        "print(X_train)"
      ],
      "metadata": {
        "colab": {
          "base_uri": "https://localhost:8080/"
        },
        "id": "aKvtvY9BdFy3",
        "outputId": "22094d3c-51e0-4e3e-8f2b-362318fcd8e5"
      },
      "execution_count": 128,
      "outputs": [
        {
          "output_type": "stream",
          "name": "stdout",
          "text": [
            "[[ 8.26578239e-02  3.88765483e-02  4.86241487e-02 ... -6.00653285e-03\n",
            "   1.97775448e-01  2.96490631e-06]\n",
            " [ 2.60936174e-01 -2.20041962e-01 -1.05506977e-01 ...  2.52922190e-03\n",
            "   1.90936439e-01  2.13896812e-05]\n",
            " [ 2.91559786e-01  3.01121578e-01  1.54765964e-01 ...  6.43132592e-03\n",
            "   7.72283949e-01  8.89471893e-06]\n",
            " ...\n",
            " [ 5.28126153e-02  7.86211840e-03  1.84896686e-02 ...  5.16522056e-03\n",
            "   6.87191221e-01  3.36728645e-05]\n",
            " [ 9.60428630e-03  3.53051840e-03  1.79757041e-03 ... -2.59331215e-02\n",
            "   7.70696218e-01  9.12767585e-05]\n",
            " [ 1.80246213e-02 -3.32755243e-03 -8.66150959e-04 ...  7.84247448e-02\n",
            "   2.59389947e-01  1.10125092e-05]]\n"
          ]
        }
      ]
    },
    {
      "cell_type": "markdown",
      "source": [
        "### Random Forest Regressor"
      ],
      "metadata": {
        "id": "8kZ2R5pHhj88"
      }
    },
    {
      "cell_type": "code",
      "source": [
        "from sklearn.ensemble import RandomForestRegressor\n",
        "from sklearn.metrics import mean_squared_error\n",
        "\n",
        "# Create a random forest regression model\n",
        "rf = RandomForestRegressor(n_estimators=100, random_state=42, verbose=2, n_jobs = -1)\n",
        "\n",
        "# Train the model on X_train and y_train\n",
        "rf.fit(X_train, y_train)\n",
        "\n",
        "# Evaluate model on X_test and y_test\n",
        "mse = mean_squared_error(y_test, rf.predict(X_test))\n",
        "print(mse)\n",
        "\n",
        "# R2 coefficient\n",
        "rf.score(X_test, y_test)"
      ],
      "metadata": {
        "colab": {
          "base_uri": "https://localhost:8080/"
        },
        "id": "Q3F8ujZSg0Hg",
        "outputId": "2edf8d88-ec3e-4c8b-db15-a157a34bdee9"
      },
      "execution_count": 129,
      "outputs": [
        {
          "output_type": "stream",
          "name": "stdout",
          "text": [
            "building tree 1 of 100building tree 2 of 100\n",
            "building tree 3 of 100\n",
            "building tree 4 of 100\n",
            "\n"
          ]
        },
        {
          "output_type": "stream",
          "name": "stderr",
          "text": [
            "[Parallel(n_jobs=-1)]: Using backend ThreadingBackend with 4 concurrent workers.\n"
          ]
        },
        {
          "output_type": "stream",
          "name": "stdout",
          "text": [
            "building tree 5 of 100\n",
            "building tree 6 of 100\n",
            "building tree 7 of 100\n",
            "building tree 8 of 100\n",
            "building tree 9 of 100\n",
            "building tree 10 of 100\n",
            "building tree 11 of 100\n",
            "building tree 12 of 100\n",
            "building tree 13 of 100\n",
            "building tree 14 of 100\n",
            "building tree 15 of 100\n",
            "building tree 16 of 100\n",
            "building tree 17 of 100\n",
            "building tree 18 of 100\n",
            "building tree 19 of 100\n",
            "building tree 20 of 100\n",
            "building tree 21 of 100\n",
            "building tree 22 of 100\n",
            "building tree 23 of 100\n",
            "building tree 24 of 100\n",
            "building tree 25 of 100\n",
            "building tree 26 of 100\n",
            "building tree 27 of 100\n",
            "building tree 28 of 100\n",
            "building tree 29 of 100\n",
            "building tree 30 of 100\n",
            "building tree 31 of 100\n",
            "building tree 32 of 100\n",
            "building tree 33 of 100\n",
            "building tree 34 of 100\n",
            "building tree 35 of 100\n",
            "building tree 36 of 100\n"
          ]
        },
        {
          "output_type": "stream",
          "name": "stderr",
          "text": [
            "[Parallel(n_jobs=-1)]: Done  33 tasks      | elapsed:  3.1min\n"
          ]
        },
        {
          "output_type": "stream",
          "name": "stdout",
          "text": [
            "building tree 37 of 100\n",
            "building tree 38 of 100\n",
            "building tree 39 of 100\n",
            "building tree 40 of 100\n",
            "building tree 41 of 100\n",
            "building tree 42 of 100\n",
            "building tree 43 of 100\n",
            "building tree 44 of 100\n",
            "building tree 45 of 100\n",
            "building tree 46 of 100\n",
            "building tree 47 of 100\n",
            "building tree 48 of 100\n",
            "building tree 49 of 100\n",
            "building tree 50 of 100\n",
            "building tree 51 of 100\n",
            "building tree 52 of 100\n",
            "building tree 53 of 100\n",
            "building tree 54 of 100\n",
            "building tree 55 of 100\n",
            "building tree 56 of 100\n",
            "building tree 57 of 100\n",
            "building tree 58 of 100\n",
            "building tree 59 of 100\n",
            "building tree 60 of 100\n",
            "building tree 61 of 100\n",
            "building tree 62 of 100\n",
            "building tree 63 of 100\n",
            "building tree 64 of 100\n",
            "building tree 65 of 100\n",
            "building tree 66 of 100\n",
            "building tree 67 of 100\n",
            "building tree 68 of 100\n",
            "building tree 69 of 100\n",
            "building tree 70 of 100\n",
            "building tree 71 of 100\n",
            "building tree 72 of 100\n",
            "building tree 73 of 100\n",
            "building tree 74 of 100\n",
            "building tree 75 of 100\n",
            "building tree 76 of 100\n",
            "building tree 77 of 100\n",
            "building tree 78 of 100\n",
            "building tree 79 of 100\n",
            "building tree 80 of 100\n",
            "building tree 81 of 100\n",
            "building tree 82 of 100\n",
            "building tree 83 of 100\n",
            "building tree 84 of 100\n",
            "building tree 85 of 100\n",
            "building tree 86 of 100\n",
            "building tree 87 of 100\n",
            "building tree 88 of 100\n",
            "building tree 89 of 100\n",
            "building tree 90 of 100\n",
            "building tree 91 of 100\n",
            "building tree 92 of 100\n",
            "building tree 93 of 100\n",
            "building tree 94 of 100\n",
            "building tree 95 of 100\n",
            "building tree 96 of 100\n",
            "building tree 97 of 100\n",
            "building tree 98 of 100\n",
            "building tree 99 of 100\n",
            "building tree 100 of 100\n"
          ]
        },
        {
          "output_type": "stream",
          "name": "stderr",
          "text": [
            "[Parallel(n_jobs=-1)]: Done 100 out of 100 | elapsed:  8.6min finished\n",
            "[Parallel(n_jobs=4)]: Using backend ThreadingBackend with 4 concurrent workers.\n",
            "[Parallel(n_jobs=4)]: Done  33 tasks      | elapsed:    0.1s\n",
            "[Parallel(n_jobs=4)]: Done 100 out of 100 | elapsed:    0.3s finished\n",
            "[Parallel(n_jobs=4)]: Using backend ThreadingBackend with 4 concurrent workers.\n",
            "[Parallel(n_jobs=4)]: Done  33 tasks      | elapsed:    0.1s\n"
          ]
        },
        {
          "output_type": "stream",
          "name": "stdout",
          "text": [
            "6.643779077238738e-07\n"
          ]
        },
        {
          "output_type": "stream",
          "name": "stderr",
          "text": [
            "[Parallel(n_jobs=4)]: Done 100 out of 100 | elapsed:    0.3s finished\n"
          ]
        },
        {
          "output_type": "execute_result",
          "data": {
            "text/plain": [
              "-0.24846702853802305"
            ]
          },
          "metadata": {},
          "execution_count": 129
        }
      ]
    },
    {
      "cell_type": "markdown",
      "source": [
        "### Gradient Boosting Regressor"
      ],
      "metadata": {
        "id": "xKpb0WRbhmdq"
      }
    },
    {
      "cell_type": "code",
      "source": [
        "from sklearn.ensemble import GradientBoostingRegressor\n",
        "from sklearn.metrics import mean_squared_error\n",
        "\n",
        "# Create a gradient boosting regression model\n",
        "gb = GradientBoostingRegressor(n_estimators=100, random_state=42, verbose=2)\n",
        "\n",
        "# Train the model on X_train and y_train\n",
        "gb.fit(X_train, y_train)\n",
        "\n",
        "# Evaluate model on X_test and y_test\n",
        "mse = mean_squared_error(y_test, gb.predict(X_test))\n",
        "print(mse)\n",
        "\n",
        "# R2 coefficient\n",
        "gb.score(X_test, y_test)"
      ],
      "metadata": {
        "colab": {
          "base_uri": "https://localhost:8080/"
        },
        "id": "rfr3fJznho6a",
        "outputId": "7e34cf41-6acd-4aa9-ebb2-2580389e0f8a"
      },
      "execution_count": 130,
      "outputs": [
        {
          "output_type": "stream",
          "name": "stdout",
          "text": [
            "      Iter       Train Loss   Remaining Time \n",
            "         1           0.0000            4.62m\n",
            "         2           0.0000            4.54m\n",
            "         3           0.0000            4.49m\n",
            "         4           0.0000            4.44m\n",
            "         5           0.0000            4.41m\n",
            "         6           0.0000            4.37m\n",
            "         7           0.0000            4.32m\n",
            "         8           0.0000            4.27m\n",
            "         9           0.0000            4.22m\n",
            "        10           0.0000            4.17m\n",
            "        11           0.0000            4.13m\n",
            "        12           0.0000            4.08m\n",
            "        13           0.0000            4.04m\n",
            "        14           0.0000            3.99m\n",
            "        15           0.0000            3.94m\n",
            "        16           0.0000            3.89m\n",
            "        17           0.0000            3.85m\n",
            "        18           0.0000            3.81m\n",
            "        19           0.0000            3.76m\n",
            "        20           0.0000            3.71m\n",
            "        21           0.0000            3.67m\n",
            "        22           0.0000            3.62m\n",
            "        23           0.0000            3.57m\n",
            "        24           0.0000            3.53m\n",
            "        25           0.0000            3.48m\n",
            "        26           0.0000            3.43m\n",
            "        27           0.0000            3.38m\n",
            "        28           0.0000            3.34m\n",
            "        29           0.0000            3.29m\n",
            "        30           0.0000            3.24m\n",
            "        31           0.0000            3.20m\n",
            "        32           0.0000            3.15m\n",
            "        33           0.0000            3.10m\n",
            "        34           0.0000            3.06m\n",
            "        35           0.0000            3.01m\n",
            "        36           0.0000            2.96m\n",
            "        37           0.0000            2.92m\n",
            "        38           0.0000            2.87m\n",
            "        39           0.0000            2.83m\n",
            "        40           0.0000            2.78m\n",
            "        41           0.0000            2.74m\n",
            "        42           0.0000            2.69m\n",
            "        43           0.0000            2.64m\n",
            "        44           0.0000            2.60m\n",
            "        45           0.0000            2.55m\n",
            "        46           0.0000            2.50m\n",
            "        47           0.0000            2.46m\n",
            "        48           0.0000            2.41m\n",
            "        49           0.0000            2.37m\n",
            "        50           0.0000            2.32m\n",
            "        51           0.0000            2.27m\n",
            "        52           0.0000            2.23m\n",
            "        53           0.0000            2.18m\n",
            "        54           0.0000            2.13m\n",
            "        55           0.0000            2.09m\n",
            "        56           0.0000            2.04m\n",
            "        57           0.0000            2.00m\n",
            "        58           0.0000            1.95m\n",
            "        59           0.0000            1.90m\n",
            "        60           0.0000            1.86m\n",
            "        61           0.0000            1.81m\n",
            "        62           0.0000            1.76m\n",
            "        63           0.0000            1.72m\n",
            "        64           0.0000            1.67m\n",
            "        65           0.0000            1.62m\n",
            "        66           0.0000            1.58m\n",
            "        67           0.0000            1.53m\n",
            "        68           0.0000            1.48m\n",
            "        69           0.0000            1.44m\n",
            "        70           0.0000            1.39m\n",
            "        71           0.0000            1.35m\n",
            "        72           0.0000            1.30m\n",
            "        73           0.0000            1.25m\n",
            "        74           0.0000            1.21m\n",
            "        75           0.0000            1.16m\n",
            "        76           0.0000            1.11m\n",
            "        77           0.0000            1.07m\n",
            "        78           0.0000            1.02m\n",
            "        79           0.0000           58.44s\n",
            "        80           0.0000           55.66s\n",
            "        81           0.0000           52.88s\n",
            "        82           0.0000           50.11s\n",
            "        83           0.0000           47.33s\n",
            "        84           0.0000           44.56s\n",
            "        85           0.0000           41.77s\n",
            "        86           0.0000           38.99s\n",
            "        87           0.0000           36.21s\n",
            "        88           0.0000           33.42s\n",
            "        89           0.0000           30.63s\n",
            "        90           0.0000           27.85s\n",
            "        91           0.0000           25.06s\n",
            "        92           0.0000           22.27s\n",
            "        93           0.0000           19.49s\n",
            "        94           0.0000           16.70s\n",
            "        95           0.0000           13.92s\n",
            "        96           0.0000           11.13s\n",
            "        97           0.0000            8.35s\n",
            "        98           0.0000            5.57s\n",
            "        99           0.0000            2.78s\n",
            "       100           0.0000            0.00s\n",
            "5.548784571872328e-07\n"
          ]
        },
        {
          "output_type": "execute_result",
          "data": {
            "text/plain": [
              "-0.042700924565096"
            ]
          },
          "metadata": {},
          "execution_count": 130
        }
      ]
    },
    {
      "cell_type": "markdown",
      "source": [
        "## Model 2 (Using timestamp, follows, tweet content, tweet sentiment, and fanbase sentiment to predict number of likes)"
      ],
      "metadata": {
        "id": "3RoHbWNFN94i"
      }
    },
    {
      "cell_type": "markdown",
      "source": [
        "### Pre-processing (normalization, TF-IDF, SVD, Average Sentiment analysis) on Dataframe"
      ],
      "metadata": {
        "id": "gOo3TZJ_w82O"
      }
    },
    {
      "cell_type": "code",
      "source": [
        "df = pd.read_csv('df_part_2.csv', encoding = \"UTF-8\")"
      ],
      "metadata": {
        "id": "gk-EurCdw8B1"
      },
      "execution_count": null,
      "outputs": []
    },
    {
      "cell_type": "code",
      "source": [
        "df2 = df"
      ],
      "metadata": {
        "id": "NnNnrAsaEDJN"
      },
      "execution_count": 131,
      "outputs": []
    },
    {
      "cell_type": "code",
      "source": [
        "# randomize data as train_test_split will only pick last N datapoints as testing set\n",
        "df2 = df2.sample(frac=1, random_state=42).reset_index(drop=True)"
      ],
      "metadata": {
        "id": "SzgSSFPVECze"
      },
      "execution_count": 132,
      "outputs": []
    },
    {
      "cell_type": "code",
      "source": [
        "# drop any NAs caused by saving as CSV\n",
        "df2.dropna(inplace=True)\n",
        "\n",
        "# split into train and test data\n",
        "df_train, df_test = train_test_split(df2, test_size=0.25, random_state = 42)"
      ],
      "metadata": {
        "id": "qUkZcDweOJC_"
      },
      "execution_count": 133,
      "outputs": []
    },
    {
      "cell_type": "code",
      "source": [
        "print(df_train)"
      ],
      "metadata": {
        "colab": {
          "base_uri": "https://localhost:8080/"
        },
        "id": "Uzu6US5Tul0o",
        "outputId": "1c890937-3271-4cec-815f-53f2d4341b42"
      },
      "execution_count": 134,
      "outputs": [
        {
          "output_type": "stream",
          "name": "stdout",
          "text": [
            "                                                     Text  Follows  \\\n",
            "83935                                     go patriot come     14.0   \n",
            "36036                                           game kill    101.0   \n",
            "65360             fan watch super bowl let keep eye crowd     42.0   \n",
            "102223                                       superstition    183.0   \n",
            "116326      happy blue friday cant wait cheer game sunday    495.0   \n",
            "...                                                   ...      ...   \n",
            "119879                                             thanks  10330.0   \n",
            "103694  save tee amp merch dont ever pay full price shirt   2508.0   \n",
            "131932  know im delirious flt delay try get didnt see ...    159.0   \n",
            "146867                            prediction mvp go lynch    431.0   \n",
            "121958                                            awesome     52.0   \n",
            "\n",
            "         Timestamp Team Likes  \n",
            "83935   1421634368    0     0  \n",
            "36036   1421620132    1     0  \n",
            "65360   1422830258    1     0  \n",
            "102223  1422844150    0     0  \n",
            "116326  1421424840    1     0  \n",
            "...            ...  ...   ...  \n",
            "119879  1421428093    1     0  \n",
            "103694  1421525582    1     0  \n",
            "131932  1422653130    1     0  \n",
            "146867  1422826953    1     0  \n",
            "121958  1421762624    1     0  \n",
            "\n",
            "[115638 rows x 5 columns]\n"
          ]
        }
      ]
    },
    {
      "cell_type": "code",
      "source": [
        "# VADER (Valence Aware Dictionary and sEntiment Reasoner) is known to work well with social media data such as Twitter\n",
        "from nltk.sentiment.vader import SentimentIntensityAnalyzer\n",
        "\n",
        "# Download VADER resources\n",
        "nltk.download('vader_lexicon')\n",
        "\n",
        "# Initialize the VADER sentiment analyzer\n",
        "analyzer = SentimentIntensityAnalyzer()\n",
        "\n",
        "# Get tweet sentiment using content\n",
        "def get_tweet_sentiment(tweet):\n",
        "    score = analyzer.polarity_scores(tweet)\n",
        "    return score['compound']"
      ],
      "metadata": {
        "colab": {
          "base_uri": "https://localhost:8080/"
        },
        "id": "QTwuimnNuysv",
        "outputId": "abbbfd36-4fe4-4b65-eb83-ebe51b6642c3"
      },
      "execution_count": 135,
      "outputs": [
        {
          "output_type": "stream",
          "name": "stderr",
          "text": [
            "[nltk_data] Downloading package vader_lexicon to /root/nltk_data...\n",
            "[nltk_data]   Package vader_lexicon is already up-to-date!\n"
          ]
        }
      ]
    },
    {
      "cell_type": "code",
      "source": [
        "# Calculate the sentiment score for each tweet in the dataset\n",
        "df_train['Sentiment'] = df_train['Text'].apply(get_tweet_sentiment)\n",
        "df_test['Sentiment'] = df_test['Text'].apply(get_tweet_sentiment)\n",
        "\n",
        "# We use train and test data separately, as we don't want to know about test data when building model\n",
        "\n",
        "# Calculate average sentiment of the user's fanbase in the hour of tweeting\n",
        "# Convert to date-time for easy grouping\n",
        "df_train['Timestamp_DT'] = pd.to_datetime(df_train['Timestamp'], unit='s')\n",
        "df_test['Timestamp_DT'] = pd.to_datetime(df_test['Timestamp'], unit='s')"
      ],
      "metadata": {
        "id": "TRWco7zU0MAt"
      },
      "execution_count": 136,
      "outputs": []
    },
    {
      "cell_type": "code",
      "source": [
        "print(df_train)"
      ],
      "metadata": {
        "colab": {
          "base_uri": "https://localhost:8080/"
        },
        "id": "G9mGnsPQ9rX4",
        "outputId": "b5465f57-4b98-44ba-c298-8d3b2ac5cd06"
      },
      "execution_count": 137,
      "outputs": [
        {
          "output_type": "stream",
          "name": "stdout",
          "text": [
            "                                                     Text  Follows  \\\n",
            "83935                                     go patriot come     14.0   \n",
            "36036                                           game kill    101.0   \n",
            "65360             fan watch super bowl let keep eye crowd     42.0   \n",
            "102223                                       superstition    183.0   \n",
            "116326      happy blue friday cant wait cheer game sunday    495.0   \n",
            "...                                                   ...      ...   \n",
            "119879                                             thanks  10330.0   \n",
            "103694  save tee amp merch dont ever pay full price shirt   2508.0   \n",
            "131932  know im delirious flt delay try get didnt see ...    159.0   \n",
            "146867                            prediction mvp go lynch    431.0   \n",
            "121958                                            awesome     52.0   \n",
            "\n",
            "         Timestamp Team Likes  Sentiment        Timestamp_DT  \n",
            "83935   1421634368    0     0     0.0000 2015-01-19 02:26:08  \n",
            "36036   1421620132    1     0    -0.6908 2015-01-18 22:28:52  \n",
            "65360   1422830258    1     0     0.7351 2015-02-01 22:37:38  \n",
            "102223  1422844150    0     0     0.0000 2015-02-02 02:29:10  \n",
            "116326  1421424840    1     0     0.2495 2015-01-16 16:14:00  \n",
            "...            ...  ...   ...        ...                 ...  \n",
            "119879  1421428093    1     0     0.4404 2015-01-16 17:08:13  \n",
            "103694  1421525582    1     0     0.5417 2015-01-17 20:13:02  \n",
            "131932  1422653130    1     0    -0.3182 2015-01-30 21:25:30  \n",
            "146867  1422826953    1     0     0.0000 2015-02-01 21:42:33  \n",
            "121958  1421762624    1     0     0.6249 2015-01-20 14:03:44  \n",
            "\n",
            "[115638 rows x 7 columns]\n"
          ]
        }
      ]
    },
    {
      "cell_type": "code",
      "source": [
        "from datetime import datetime\n",
        "\n",
        "# Get average sentiment of Tweets in the hour of posting per fanbase\n",
        "team_hourly_sentiment_train = df_train.groupby(['Team', pd.Grouper(key='Timestamp_DT', freq='H')])['Sentiment'].mean()\n",
        "team_hourly_sentiment_test = df_test.groupby(['Team', pd.Grouper(key='Timestamp_DT', freq='H')])['Sentiment'].mean()\n",
        "\n",
        "# Write a function to extract average sentiment based on Team and Hour\n",
        "def get_average_sentiment(team, timestamp, train=True):\n",
        "  if train:\n",
        "    query_data = team_hourly_sentiment_train\n",
        "  else:\n",
        "    query_data = team_hourly_sentiment_test\n",
        "  \n",
        "  # parse timestamp to get hour\n",
        "  hour_str = timestamp.strftime('%Y-%m-%d %H:00:00')\n",
        "  hour_dt = datetime.strptime(hour_str, '%Y-%m-%d %H:%M:%S')\n",
        "\n",
        "  # query to return value\n",
        "  return query_data[team][hour_dt]\n",
        "\n",
        "# Query and add column\n",
        "df_train['Fanbase_Sentiment'] = df_train.apply(lambda row: get_average_sentiment(row['Team'], row['Timestamp_DT']), axis = 1)\n",
        "df_test['Fanbase_Sentiment'] = df_test.apply(lambda row: get_average_sentiment(row['Team'], row['Timestamp_DT'], train=False), axis = 1)"
      ],
      "metadata": {
        "id": "togZhw5_5BTM"
      },
      "execution_count": 138,
      "outputs": []
    },
    {
      "cell_type": "code",
      "source": [
        "print(df_train['Sentiment'])\n",
        "print(df_train['Fanbase_Sentiment'])"
      ],
      "metadata": {
        "colab": {
          "base_uri": "https://localhost:8080/"
        },
        "id": "Vm-4s19W1Tkn",
        "outputId": "820d1d11-f473-430e-a3f6-dd574700a441"
      },
      "execution_count": 139,
      "outputs": [
        {
          "output_type": "stream",
          "name": "stdout",
          "text": [
            "83935     0.0000\n",
            "36036    -0.6908\n",
            "65360     0.7351\n",
            "102223    0.0000\n",
            "116326    0.2495\n",
            "           ...  \n",
            "119879    0.4404\n",
            "103694    0.5417\n",
            "131932   -0.3182\n",
            "146867    0.0000\n",
            "121958    0.6249\n",
            "Name: Sentiment, Length: 115638, dtype: float64\n",
            "83935     0.163082\n",
            "36036     0.100919\n",
            "65360     0.210795\n",
            "102223    0.090222\n",
            "116326    0.277111\n",
            "            ...   \n",
            "119879    0.312732\n",
            "103694    0.202281\n",
            "131932    0.311108\n",
            "146867    0.249630\n",
            "121958    0.268152\n",
            "Name: Fanbase_Sentiment, Length: 115638, dtype: float64\n"
          ]
        }
      ]
    },
    {
      "cell_type": "code",
      "source": [
        "# save for future use, to not rerun extraction again\n",
        "from google.colab import files\n",
        "\n",
        "df_train.to_csv('df_part_2_augmented_train.csv', encoding = \"UTF-8\")\n",
        "files.download('df_part_2_augmented_train.csv')\n",
        "\n",
        "df_test.to_csv('df_part_2_augmented_test.csv', encoding = \"UTF-8\")\n",
        "files.download('df_part_2_augmented_test.csv')"
      ],
      "metadata": {
        "colab": {
          "base_uri": "https://localhost:8080/",
          "height": 17
        },
        "id": "gy4P50FHDL95",
        "outputId": "734c4aa4-937a-410c-e24a-001b6143ee80"
      },
      "execution_count": 140,
      "outputs": [
        {
          "output_type": "display_data",
          "data": {
            "text/plain": [
              "<IPython.core.display.Javascript object>"
            ],
            "application/javascript": [
              "\n",
              "    async function download(id, filename, size) {\n",
              "      if (!google.colab.kernel.accessAllowed) {\n",
              "        return;\n",
              "      }\n",
              "      const div = document.createElement('div');\n",
              "      const label = document.createElement('label');\n",
              "      label.textContent = `Downloading \"${filename}\": `;\n",
              "      div.appendChild(label);\n",
              "      const progress = document.createElement('progress');\n",
              "      progress.max = size;\n",
              "      div.appendChild(progress);\n",
              "      document.body.appendChild(div);\n",
              "\n",
              "      const buffers = [];\n",
              "      let downloaded = 0;\n",
              "\n",
              "      const channel = await google.colab.kernel.comms.open(id);\n",
              "      // Send a message to notify the kernel that we're ready.\n",
              "      channel.send({})\n",
              "\n",
              "      for await (const message of channel.messages) {\n",
              "        // Send a message to notify the kernel that we're ready.\n",
              "        channel.send({})\n",
              "        if (message.buffers) {\n",
              "          for (const buffer of message.buffers) {\n",
              "            buffers.push(buffer);\n",
              "            downloaded += buffer.byteLength;\n",
              "            progress.value = downloaded;\n",
              "          }\n",
              "        }\n",
              "      }\n",
              "      const blob = new Blob(buffers, {type: 'application/binary'});\n",
              "      const a = document.createElement('a');\n",
              "      a.href = window.URL.createObjectURL(blob);\n",
              "      a.download = filename;\n",
              "      div.appendChild(a);\n",
              "      a.click();\n",
              "      div.remove();\n",
              "    }\n",
              "  "
            ]
          },
          "metadata": {}
        },
        {
          "output_type": "display_data",
          "data": {
            "text/plain": [
              "<IPython.core.display.Javascript object>"
            ],
            "application/javascript": [
              "download(\"download_cf728947-7e90-4a0e-9201-0a8373189a69\", \"df_part_2_augmented_train.csv\", 11847011)"
            ]
          },
          "metadata": {}
        },
        {
          "output_type": "display_data",
          "data": {
            "text/plain": [
              "<IPython.core.display.Javascript object>"
            ],
            "application/javascript": [
              "\n",
              "    async function download(id, filename, size) {\n",
              "      if (!google.colab.kernel.accessAllowed) {\n",
              "        return;\n",
              "      }\n",
              "      const div = document.createElement('div');\n",
              "      const label = document.createElement('label');\n",
              "      label.textContent = `Downloading \"${filename}\": `;\n",
              "      div.appendChild(label);\n",
              "      const progress = document.createElement('progress');\n",
              "      progress.max = size;\n",
              "      div.appendChild(progress);\n",
              "      document.body.appendChild(div);\n",
              "\n",
              "      const buffers = [];\n",
              "      let downloaded = 0;\n",
              "\n",
              "      const channel = await google.colab.kernel.comms.open(id);\n",
              "      // Send a message to notify the kernel that we're ready.\n",
              "      channel.send({})\n",
              "\n",
              "      for await (const message of channel.messages) {\n",
              "        // Send a message to notify the kernel that we're ready.\n",
              "        channel.send({})\n",
              "        if (message.buffers) {\n",
              "          for (const buffer of message.buffers) {\n",
              "            buffers.push(buffer);\n",
              "            downloaded += buffer.byteLength;\n",
              "            progress.value = downloaded;\n",
              "          }\n",
              "        }\n",
              "      }\n",
              "      const blob = new Blob(buffers, {type: 'application/binary'});\n",
              "      const a = document.createElement('a');\n",
              "      a.href = window.URL.createObjectURL(blob);\n",
              "      a.download = filename;\n",
              "      div.appendChild(a);\n",
              "      a.click();\n",
              "      div.remove();\n",
              "    }\n",
              "  "
            ]
          },
          "metadata": {}
        },
        {
          "output_type": "display_data",
          "data": {
            "text/plain": [
              "<IPython.core.display.Javascript object>"
            ],
            "application/javascript": [
              "download(\"download_5b384b09-27c0-4faa-964b-5a84ee880f80\", \"df_part_2_augmented_test.csv\", 3931680)"
            ]
          },
          "metadata": {}
        }
      ]
    },
    {
      "cell_type": "code",
      "source": [
        "from sklearn.model_selection import train_test_split\n",
        "from sklearn.pipeline import Pipeline\n",
        "from sklearn.decomposition import TruncatedSVD\n",
        "\n",
        "# convert text into TFIDF vectors, reduced to 50 components using SVD\n",
        "text_vec_pipeline = Pipeline([('convector', CountVectorizer(stop_words='english', min_df=3)), ('tfidf', TfidfTransformer()), ('dim_reduce', TruncatedSVD(50, random_state=42))])\n",
        "\n",
        "df_train['TFIDF'] = text_vec_pipeline.fit_transform(df_train['Text']).tolist()\n",
        "df_test['TFIDF'] = text_vec_pipeline.transform(df_test['Text']).tolist()"
      ],
      "metadata": {
        "id": "aQTy_GT-Eh_l"
      },
      "execution_count": 141,
      "outputs": []
    },
    {
      "cell_type": "code",
      "source": [
        "from sklearn.preprocessing import MinMaxScaler\n",
        "from sklearn.preprocessing import StandardScaler\n",
        "\n",
        "scaler = MinMaxScaler()\n",
        "standard_scaler = StandardScaler()\n",
        "\n",
        "df_train[['Timestamp','Likes','Follows']] = scaler.fit_transform(df_train[['Timestamp','Likes','Follows']])\n",
        "df_test[['Timestamp','Likes','Follows']] = scaler.transform(df_test[['Timestamp','Likes','Follows']])\n",
        "\n",
        "df_train[['Sentiment', 'Fanbase_Sentiment']] = standard_scaler.fit_transform(df_train[['Sentiment', 'Fanbase_Sentiment']])\n",
        "df_test[['Sentiment', 'Fanbase_Sentiment']] = standard_scaler.transform(df_test[['Sentiment', 'Fanbase_Sentiment']])"
      ],
      "metadata": {
        "id": "OlwQM_Q3H9PT"
      },
      "execution_count": 142,
      "outputs": []
    },
    {
      "cell_type": "markdown",
      "source": [
        "### Extracting X and Y"
      ],
      "metadata": {
        "id": "kEXkNuJQE6ls"
      }
    },
    {
      "cell_type": "code",
      "source": [
        "X_train = np.stack(df_train.apply(lambda row: np.concatenate([row['TFIDF'], [row['Timestamp'], row['Follows'], row['Sentiment'], row['Fanbase_Sentiment']]]), axis=1))\n",
        "y_train = df_train[['Likes']].values.ravel()\n",
        "\n",
        "X_test = np.stack(df_test.apply(lambda row: np.concatenate([row['TFIDF'], [row['Timestamp'], row['Follows'], row['Sentiment'], row['Fanbase_Sentiment']]]), axis=1))\n",
        "y_test = df_test[['Likes']].values.ravel()"
      ],
      "metadata": {
        "id": "Va8jSYonEyr_"
      },
      "execution_count": 143,
      "outputs": []
    },
    {
      "cell_type": "code",
      "source": [
        "print(X_train.shape)\n",
        "print(y_train.shape)\n",
        "print(X_test.shape)\n",
        "print(y_test.shape)"
      ],
      "metadata": {
        "colab": {
          "base_uri": "https://localhost:8080/"
        },
        "id": "yVZwVldJFRoL",
        "outputId": "792f109a-ba33-4742-ed56-f234183555de"
      },
      "execution_count": 144,
      "outputs": [
        {
          "output_type": "stream",
          "name": "stdout",
          "text": [
            "(115638, 54)\n",
            "(115638,)\n",
            "(38547, 54)\n",
            "(38547,)\n"
          ]
        }
      ]
    },
    {
      "cell_type": "code",
      "source": [
        "print(X_train)"
      ],
      "metadata": {
        "colab": {
          "base_uri": "https://localhost:8080/"
        },
        "id": "eGmBvce4FV3i",
        "outputId": "5c34ab5a-5c90-4451-b0da-4611668afcb4"
      },
      "execution_count": 145,
      "outputs": [
        {
          "output_type": "stream",
          "name": "stdout",
          "text": [
            "[[ 8.26578239e-02  3.88765483e-02  4.86241487e-02 ...  2.96490631e-06\n",
            "  -5.35985831e-01 -5.61903716e-01]\n",
            " [ 2.60936174e-01 -2.20041962e-01 -1.05506977e-01 ...  2.13896812e-05\n",
            "  -2.35731668e+00 -1.43060782e+00]\n",
            " [ 2.91559786e-01  3.01121578e-01  1.54765964e-01 ...  8.89471893e-06\n",
            "   1.40214432e+00  1.04867639e-01]\n",
            " ...\n",
            " [ 5.28126153e-02  7.86211840e-03  1.84896686e-02 ...  3.36728645e-05\n",
            "  -1.37493701e+00  1.50671531e+00]\n",
            " [ 9.60428630e-03  3.53051840e-03  1.79757041e-03 ...  9.12767585e-05\n",
            "  -5.35985831e-01  6.47577025e-01]\n",
            " [ 1.80246213e-02 -3.32755243e-03 -8.66150959e-04 ...  1.10125092e-05\n",
            "   1.11159617e+00  9.06421341e-01]]\n"
          ]
        }
      ]
    },
    {
      "cell_type": "markdown",
      "source": [
        "### Random Forest Regressor"
      ],
      "metadata": {
        "id": "vgPaBsahFYd0"
      }
    },
    {
      "cell_type": "code",
      "source": [
        "from sklearn.ensemble import RandomForestRegressor\n",
        "from sklearn.metrics import mean_squared_error\n",
        "\n",
        "# Create a random forest regression model\n",
        "rf = RandomForestRegressor(n_estimators=100, random_state=42, verbose=2, n_jobs = -1)\n",
        "\n",
        "# Train the model on X_train and y_train\n",
        "rf.fit(X_train, y_train)\n",
        "\n",
        "# Evaluate model on X_test and y_test\n",
        "mse = mean_squared_error(y_test, rf.predict(X_test))\n",
        "print(mse)\n",
        "\n",
        "# R2 coefficient\n",
        "rf.score(X_test, y_test)"
      ],
      "metadata": {
        "colab": {
          "base_uri": "https://localhost:8080/"
        },
        "id": "yIensBlJFeee",
        "outputId": "45efd6cd-1b71-4ea9-b236-449aadae21ce"
      },
      "execution_count": 146,
      "outputs": [
        {
          "output_type": "stream",
          "name": "stdout",
          "text": [
            "building tree 1 of 100building tree 2 of 100\n",
            "\n",
            "building tree 3 of 100\n",
            "building tree 4 of 100\n"
          ]
        },
        {
          "output_type": "stream",
          "name": "stderr",
          "text": [
            "[Parallel(n_jobs=-1)]: Using backend ThreadingBackend with 4 concurrent workers.\n"
          ]
        },
        {
          "output_type": "stream",
          "name": "stdout",
          "text": [
            "building tree 5 of 100\n",
            "building tree 6 of 100\n",
            "building tree 7 of 100\n",
            "building tree 8 of 100\n",
            "building tree 9 of 100\n",
            "building tree 10 of 100\n",
            "building tree 11 of 100\n",
            "building tree 12 of 100\n",
            "building tree 13 of 100\n",
            "building tree 14 of 100\n",
            "building tree 15 of 100\n",
            "building tree 16 of 100\n",
            "building tree 17 of 100\n",
            "building tree 18 of 100\n",
            "building tree 19 of 100\n",
            "building tree 20 of 100\n",
            "building tree 21 of 100\n",
            "building tree 22 of 100\n",
            "building tree 23 of 100\n",
            "building tree 24 of 100\n",
            "building tree 25 of 100\n",
            "building tree 26 of 100\n",
            "building tree 27 of 100\n",
            "building tree 28 of 100\n",
            "building tree 29 of 100\n",
            "building tree 30 of 100\n",
            "building tree 31 of 100\n",
            "building tree 32 of 100\n",
            "building tree 33 of 100\n",
            "building tree 34 of 100\n",
            "building tree 35 of 100\n",
            "building tree 36 of 100\n"
          ]
        },
        {
          "output_type": "stream",
          "name": "stderr",
          "text": [
            "[Parallel(n_jobs=-1)]: Done  33 tasks      | elapsed:  3.1min\n"
          ]
        },
        {
          "output_type": "stream",
          "name": "stdout",
          "text": [
            "building tree 37 of 100\n",
            "building tree 38 of 100\n",
            "building tree 39 of 100\n",
            "building tree 40 of 100\n",
            "building tree 41 of 100\n",
            "building tree 42 of 100\n",
            "building tree 43 of 100\n",
            "building tree 44 of 100\n",
            "building tree 45 of 100\n",
            "building tree 46 of 100\n",
            "building tree 47 of 100\n",
            "building tree 48 of 100\n",
            "building tree 49 of 100\n",
            "building tree 50 of 100\n",
            "building tree 51 of 100\n",
            "building tree 52 of 100\n",
            "building tree 53 of 100\n",
            "building tree 54 of 100\n",
            "building tree 55 of 100\n",
            "building tree 56 of 100\n",
            "building tree 57 of 100\n",
            "building tree 58 of 100\n",
            "building tree 59 of 100\n",
            "building tree 60 of 100\n",
            "building tree 61 of 100\n",
            "building tree 62 of 100\n",
            "building tree 63 of 100\n",
            "building tree 64 of 100\n",
            "building tree 65 of 100\n",
            "building tree 66 of 100\n",
            "building tree 67 of 100\n",
            "building tree 68 of 100\n",
            "building tree 69 of 100\n",
            "building tree 70 of 100\n",
            "building tree 71 of 100\n",
            "building tree 72 of 100\n",
            "building tree 73 of 100\n",
            "building tree 74 of 100\n",
            "building tree 75 of 100\n",
            "building tree 76 of 100\n",
            "building tree 77 of 100\n",
            "building tree 78 of 100\n",
            "building tree 79 of 100\n",
            "building tree 80 of 100\n",
            "building tree 81 of 100\n",
            "building tree 82 of 100\n",
            "building tree 83 of 100\n",
            "building tree 84 of 100\n",
            "building tree 85 of 100\n",
            "building tree 86 of 100\n",
            "building tree 87 of 100\n",
            "building tree 88 of 100\n",
            "building tree 89 of 100\n",
            "building tree 90 of 100\n",
            "building tree 91 of 100\n",
            "building tree 92 of 100\n",
            "building tree 93 of 100\n",
            "building tree 94 of 100\n",
            "building tree 95 of 100\n",
            "building tree 96 of 100\n",
            "building tree 97 of 100\n",
            "building tree 98 of 100\n",
            "building tree 99 of 100\n",
            "building tree 100 of 100\n"
          ]
        },
        {
          "output_type": "stream",
          "name": "stderr",
          "text": [
            "[Parallel(n_jobs=-1)]: Done 100 out of 100 | elapsed:  9.0min finished\n",
            "[Parallel(n_jobs=4)]: Using backend ThreadingBackend with 4 concurrent workers.\n",
            "[Parallel(n_jobs=4)]: Done  33 tasks      | elapsed:    0.1s\n",
            "[Parallel(n_jobs=4)]: Done 100 out of 100 | elapsed:    0.3s finished\n",
            "[Parallel(n_jobs=4)]: Using backend ThreadingBackend with 4 concurrent workers.\n",
            "[Parallel(n_jobs=4)]: Done  33 tasks      | elapsed:    0.1s\n"
          ]
        },
        {
          "output_type": "stream",
          "name": "stdout",
          "text": [
            "5.999761703515993e-07\n"
          ]
        },
        {
          "output_type": "stream",
          "name": "stderr",
          "text": [
            "[Parallel(n_jobs=4)]: Done 100 out of 100 | elapsed:    0.3s finished\n"
          ]
        },
        {
          "output_type": "execute_result",
          "data": {
            "text/plain": [
              "-0.127446379363658"
            ]
          },
          "metadata": {},
          "execution_count": 146
        }
      ]
    },
    {
      "cell_type": "code",
      "source": [
        "rf.feature_importances_"
      ],
      "metadata": {
        "colab": {
          "base_uri": "https://localhost:8080/"
        },
        "id": "bDO86Y6c1MX2",
        "outputId": "47df03c0-67fe-464d-e33d-2be3922c575b"
      },
      "execution_count": 151,
      "outputs": [
        {
          "output_type": "execute_result",
          "data": {
            "text/plain": [
              "array([9.65193148e-03, 2.12338660e-04, 2.67083823e-04, 9.68460207e-03,\n",
              "       4.96443243e-03, 5.89079559e-03, 8.93811005e-03, 5.51222574e-03,\n",
              "       2.82662778e-03, 2.45020120e-02, 1.61959193e-03, 3.65644184e-02,\n",
              "       2.55254780e-03, 1.63959246e-04, 2.06563989e-03, 1.53907615e-02,\n",
              "       1.74310092e-03, 1.95059671e-02, 5.24938692e-04, 8.73016396e-03,\n",
              "       1.54318230e-02, 3.40839317e-02, 7.55800880e-03, 3.71997141e-02,\n",
              "       1.27170591e-02, 2.64723593e-04, 2.15915327e-03, 1.05713350e-02,\n",
              "       2.39733123e-02, 3.91454317e-04, 1.88726859e-02, 3.54623932e-02,\n",
              "       2.43836780e-02, 7.53354663e-02, 1.43606474e-03, 1.06403196e-02,\n",
              "       5.04221290e-02, 2.25414534e-04, 1.37926822e-02, 1.71673746e-02,\n",
              "       1.79170258e-02, 8.41922103e-03, 2.01818600e-02, 4.89160711e-03,\n",
              "       9.18527585e-03, 3.15948850e-04, 1.61320895e-02, 9.22054015e-03,\n",
              "       9.79618873e-03, 1.32884175e-02, 3.04552036e-02, 2.60034171e-01,\n",
              "       2.24432017e-03, 4.45181587e-02])"
            ]
          },
          "metadata": {},
          "execution_count": 151
        }
      ]
    },
    {
      "cell_type": "markdown",
      "source": [
        "### Gradient Boosting Regressor"
      ],
      "metadata": {
        "id": "aiEapj9iFhAc"
      }
    },
    {
      "cell_type": "code",
      "source": [
        "from sklearn.ensemble import GradientBoostingRegressor\n",
        "from sklearn.metrics import mean_squared_error\n",
        "\n",
        "# Create a gradient boosting regression model\n",
        "gb = GradientBoostingRegressor(n_estimators=100, random_state=42, verbose=2)\n",
        "\n",
        "# Train the model on X_train and y_train\n",
        "gb.fit(X_train, y_train)\n",
        "\n",
        "# Evaluate model on X_test and y_test\n",
        "mse = mean_squared_error(y_test, gb.predict(X_test))\n",
        "print(mse)\n",
        "\n",
        "# R2 coefficient\n",
        "gb.score(X_test, y_test)"
      ],
      "metadata": {
        "colab": {
          "base_uri": "https://localhost:8080/"
        },
        "id": "6mPfa05-FgaU",
        "outputId": "09264308-c8f3-4645-df5f-5806a524db26"
      },
      "execution_count": 147,
      "outputs": [
        {
          "output_type": "stream",
          "name": "stdout",
          "text": [
            "      Iter       Train Loss   Remaining Time \n",
            "         1           0.0000            4.65m\n",
            "         2           0.0000            4.59m\n",
            "         3           0.0000            4.53m\n",
            "         4           0.0000            4.48m\n",
            "         5           0.0000            4.45m\n",
            "         6           0.0000            4.39m\n",
            "         7           0.0000            4.34m\n",
            "         8           0.0000            4.30m\n",
            "         9           0.0000            4.25m\n",
            "        10           0.0000            4.20m\n",
            "        11           0.0000            4.15m\n",
            "        12           0.0000            4.10m\n",
            "        13           0.0000            4.05m\n",
            "        14           0.0000            4.01m\n",
            "        15           0.0000            3.96m\n",
            "        16           0.0000            3.91m\n",
            "        17           0.0000            3.87m\n",
            "        18           0.0000            3.83m\n",
            "        19           0.0000            3.78m\n",
            "        20           0.0000            3.73m\n",
            "        21           0.0000            3.68m\n",
            "        22           0.0000            3.64m\n",
            "        23           0.0000            3.59m\n",
            "        24           0.0000            3.54m\n",
            "        25           0.0000            3.50m\n",
            "        26           0.0000            3.45m\n",
            "        27           0.0000            3.40m\n",
            "        28           0.0000            3.36m\n",
            "        29           0.0000            3.31m\n",
            "        30           0.0000            3.26m\n",
            "        31           0.0000            3.22m\n",
            "        32           0.0000            3.17m\n",
            "        33           0.0000            3.12m\n",
            "        34           0.0000            3.07m\n",
            "        35           0.0000            3.03m\n",
            "        36           0.0000            2.98m\n",
            "        37           0.0000            2.94m\n",
            "        38           0.0000            2.89m\n",
            "        39           0.0000            2.84m\n",
            "        40           0.0000            2.80m\n",
            "        41           0.0000            2.75m\n",
            "        42           0.0000            2.70m\n",
            "        43           0.0000            2.66m\n",
            "        44           0.0000            2.61m\n",
            "        45           0.0000            2.56m\n",
            "        46           0.0000            2.52m\n",
            "        47           0.0000            2.47m\n",
            "        48           0.0000            2.42m\n",
            "        49           0.0000            2.38m\n",
            "        50           0.0000            2.33m\n",
            "        51           0.0000            2.28m\n",
            "        52           0.0000            2.24m\n",
            "        53           0.0000            2.19m\n",
            "        54           0.0000            2.14m\n",
            "        55           0.0000            2.10m\n",
            "        56           0.0000            2.05m\n",
            "        57           0.0000            2.00m\n",
            "        58           0.0000            1.96m\n",
            "        59           0.0000            1.91m\n",
            "        60           0.0000            1.86m\n",
            "        61           0.0000            1.82m\n",
            "        62           0.0000            1.77m\n",
            "        63           0.0000            1.73m\n",
            "        64           0.0000            1.68m\n",
            "        65           0.0000            1.63m\n",
            "        66           0.0000            1.59m\n",
            "        67           0.0000            1.54m\n",
            "        68           0.0000            1.49m\n",
            "        69           0.0000            1.45m\n",
            "        70           0.0000            1.40m\n",
            "        71           0.0000            1.35m\n",
            "        72           0.0000            1.31m\n",
            "        73           0.0000            1.26m\n",
            "        74           0.0000            1.21m\n",
            "        75           0.0000            1.17m\n",
            "        76           0.0000            1.12m\n",
            "        77           0.0000            1.07m\n",
            "        78           0.0000            1.03m\n",
            "        79           0.0000           58.78s\n",
            "        80           0.0000           55.98s\n",
            "        81           0.0000           53.18s\n",
            "        82           0.0000           50.38s\n",
            "        83           0.0000           47.58s\n",
            "        84           0.0000           44.78s\n",
            "        85           0.0000           41.98s\n",
            "        86           0.0000           39.19s\n",
            "        87           0.0000           36.39s\n",
            "        88           0.0000           33.58s\n",
            "        89           0.0000           30.78s\n",
            "        90           0.0000           27.98s\n",
            "        91           0.0000           25.19s\n",
            "        92           0.0000           22.39s\n",
            "        93           0.0000           19.59s\n",
            "        94           0.0000           16.79s\n",
            "        95           0.0000           14.00s\n",
            "        96           0.0000           11.20s\n",
            "        97           0.0000            8.40s\n",
            "        98           0.0000            5.60s\n",
            "        99           0.0000            2.80s\n",
            "       100           0.0000            0.00s\n",
            "5.621072495832404e-07\n"
          ]
        },
        {
          "output_type": "execute_result",
          "data": {
            "text/plain": [
              "-0.056284923758387784"
            ]
          },
          "metadata": {},
          "execution_count": 147
        }
      ]
    },
    {
      "cell_type": "code",
      "source": [
        "gb.feature_importances_"
      ],
      "metadata": {
        "colab": {
          "base_uri": "https://localhost:8080/"
        },
        "id": "uput9yCQ1a_2",
        "outputId": "70db71a8-748d-4f3e-8683-b7bf0bfa7a1e"
      },
      "execution_count": 152,
      "outputs": [
        {
          "output_type": "execute_result",
          "data": {
            "text/plain": [
              "array([1.41113503e-07, 2.96873045e-04, 2.08339202e-07, 2.43847793e-07,\n",
              "       0.00000000e+00, 0.00000000e+00, 5.29955637e-06, 5.79167528e-07,\n",
              "       1.98005459e-07, 3.77113134e-04, 0.00000000e+00, 6.23284857e-08,\n",
              "       7.04694629e-05, 0.00000000e+00, 0.00000000e+00, 0.00000000e+00,\n",
              "       0.00000000e+00, 3.37580702e-06, 1.13317368e-07, 7.81056602e-07,\n",
              "       5.23710871e-03, 1.14486290e-07, 0.00000000e+00, 9.13873692e-03,\n",
              "       0.00000000e+00, 6.52360160e-07, 0.00000000e+00, 3.95113232e-08,\n",
              "       2.55835075e-03, 0.00000000e+00, 4.62350146e-05, 2.44612605e-03,\n",
              "       5.52708647e-05, 1.71040389e-01, 0.00000000e+00, 1.27890857e-01,\n",
              "       3.33555118e-01, 0.00000000e+00, 1.37346465e-04, 5.79629889e-04,\n",
              "       3.94172335e-02, 0.00000000e+00, 7.99530286e-08, 0.00000000e+00,\n",
              "       7.32374158e-03, 8.55629494e-02, 3.20080836e-05, 7.43935069e-02,\n",
              "       2.98997218e-06, 1.99974098e-05, 7.76875257e-03, 1.10781172e-01,\n",
              "       3.38890352e-05, 2.12222457e-02])"
            ]
          },
          "metadata": {},
          "execution_count": 152
        }
      ]
    },
    {
      "cell_type": "code",
      "source": [
        "print(team_hourly_sentiment_train)\n",
        "print(team_hourly_sentiment_test)"
      ],
      "metadata": {
        "colab": {
          "base_uri": "https://localhost:8080/"
        },
        "id": "YhesU-CyEjtK",
        "outputId": "07b862c8-03a6-4509-b09d-8327b8f9d306"
      },
      "execution_count": 148,
      "outputs": [
        {
          "output_type": "stream",
          "name": "stdout",
          "text": [
            "Team  Timestamp_DT       \n",
            "0     2015-01-14 09:00:00    0.840200\n",
            "      2015-01-14 10:00:00    0.000000\n",
            "      2015-01-14 12:00:00   -0.774800\n",
            "      2015-01-14 13:00:00    0.440400\n",
            "      2015-01-14 14:00:00    0.790600\n",
            "                               ...   \n",
            "1     2015-02-07 03:00:00    0.180600\n",
            "      2015-02-07 04:00:00    0.203967\n",
            "      2015-02-07 06:00:00    0.199800\n",
            "      2015-02-07 07:00:00    0.599400\n",
            "      2015-02-07 10:00:00   -0.765000\n",
            "Name: Sentiment, Length: 948, dtype: float64\n",
            "Team  Timestamp_DT       \n",
            "0     2015-01-14 18:00:00    0.361200\n",
            "      2015-01-14 19:00:00   -0.153100\n",
            "      2015-01-14 20:00:00    0.440400\n",
            "      2015-01-15 04:00:00    0.476700\n",
            "      2015-01-15 08:00:00    0.636900\n",
            "                               ...   \n",
            "1     2015-02-06 20:00:00    0.384580\n",
            "      2015-02-06 22:00:00   -0.177150\n",
            "      2015-02-06 23:00:00    0.365133\n",
            "      2015-02-07 02:00:00   -0.421500\n",
            "      2015-02-07 07:00:00    0.670500\n",
            "Name: Sentiment, Length: 794, dtype: float64\n"
          ]
        }
      ]
    },
    {
      "cell_type": "code",
      "source": [
        "team_hourly_sentiment_train[0].plot()"
      ],
      "metadata": {
        "colab": {
          "base_uri": "https://localhost:8080/",
          "height": 304
        },
        "id": "bw955np0FHSG",
        "outputId": "30b00e2d-981f-4b98-bd9e-e0741dfc26d0"
      },
      "execution_count": 149,
      "outputs": [
        {
          "output_type": "execute_result",
          "data": {
            "text/plain": [
              "<Axes: xlabel='Timestamp_DT'>"
            ]
          },
          "metadata": {},
          "execution_count": 149
        },
        {
          "output_type": "display_data",
          "data": {
            "text/plain": [
              "<Figure size 432x288 with 1 Axes>"
            ],
            "image/png": "[encoded data removed]"
          },
          "metadata": {
            "needs_background": "light"
          }
        }
      ]
    },
    {
      "cell_type": "code",
      "source": [
        "team_hourly_sentiment_train[1].plot()"
      ],
      "metadata": {
        "id": "fQEHcH2MF6a9",
        "outputId": "28d98fd0-88a1-49ec-dcb7-6371d4359566",
        "colab": {
          "base_uri": "https://localhost:8080/",
          "height": 304
        }
      },
      "execution_count": 150,
      "outputs": [
        {
          "output_type": "execute_result",
          "data": {
            "text/plain": [
              "<Axes: xlabel='Timestamp_DT'>"
            ]
          },
          "metadata": {},
          "execution_count": 150
        },
        {
          "output_type": "display_data",
          "data": {
            "text/plain": [
              "<Figure size 432x288 with 1 Axes>"
            ],
            "image/png": "[encoded data removed]"
          },
          "metadata": {
            "needs_background": "light"
          }
        }
      ]
    }
  ]
}